{
 "cells": [
  {
   "cell_type": "code",
   "execution_count": null,
   "metadata": {},
   "outputs": [],
   "source": [
    "# Rerunning the Cardio Project"
   ]
  },
  {
   "cell_type": "code",
   "execution_count": 1,
   "metadata": {},
   "outputs": [],
   "source": [
    "# Import dependencies \n",
    "\n",
    "import pandas as pd\n",
    "import numpy as np\n",
    "import seaborn as sns\n",
    "import matplotlib.pyplot as plt"
   ]
  },
  {
   "cell_type": "code",
   "execution_count": 65,
   "metadata": {},
   "outputs": [],
   "source": [
    "%matplotlib inline"
   ]
  },
  {
   "cell_type": "code",
   "execution_count": 2,
   "metadata": {},
   "outputs": [
    {
     "data": {
      "text/html": [
       "<div>\n",
       "<style scoped>\n",
       "    .dataframe tbody tr th:only-of-type {\n",
       "        vertical-align: middle;\n",
       "    }\n",
       "\n",
       "    .dataframe tbody tr th {\n",
       "        vertical-align: top;\n",
       "    }\n",
       "\n",
       "    .dataframe thead th {\n",
       "        text-align: right;\n",
       "    }\n",
       "</style>\n",
       "<table border=\"1\" class=\"dataframe\">\n",
       "  <thead>\n",
       "    <tr style=\"text-align: right;\">\n",
       "      <th></th>\n",
       "      <th>Unnamed: 0</th>\n",
       "      <th>id</th>\n",
       "      <th>age</th>\n",
       "      <th>gender</th>\n",
       "      <th>height</th>\n",
       "      <th>weight</th>\n",
       "      <th>systolic_bp</th>\n",
       "      <th>diastolic_bp</th>\n",
       "      <th>cholesterol</th>\n",
       "      <th>gluc</th>\n",
       "      <th>smoke</th>\n",
       "      <th>alco</th>\n",
       "      <th>active</th>\n",
       "      <th>cardio</th>\n",
       "      <th>BMI</th>\n",
       "    </tr>\n",
       "  </thead>\n",
       "  <tbody>\n",
       "    <tr>\n",
       "      <th>0</th>\n",
       "      <td>0</td>\n",
       "      <td>0</td>\n",
       "      <td>18393</td>\n",
       "      <td>2</td>\n",
       "      <td>168</td>\n",
       "      <td>62.0</td>\n",
       "      <td>110</td>\n",
       "      <td>80</td>\n",
       "      <td>1</td>\n",
       "      <td>1</td>\n",
       "      <td>0</td>\n",
       "      <td>0</td>\n",
       "      <td>1</td>\n",
       "      <td>0</td>\n",
       "      <td>21.97</td>\n",
       "    </tr>\n",
       "    <tr>\n",
       "      <th>1</th>\n",
       "      <td>1</td>\n",
       "      <td>1</td>\n",
       "      <td>20228</td>\n",
       "      <td>1</td>\n",
       "      <td>156</td>\n",
       "      <td>85.0</td>\n",
       "      <td>140</td>\n",
       "      <td>90</td>\n",
       "      <td>3</td>\n",
       "      <td>1</td>\n",
       "      <td>0</td>\n",
       "      <td>0</td>\n",
       "      <td>1</td>\n",
       "      <td>1</td>\n",
       "      <td>34.93</td>\n",
       "    </tr>\n",
       "    <tr>\n",
       "      <th>2</th>\n",
       "      <td>2</td>\n",
       "      <td>2</td>\n",
       "      <td>18857</td>\n",
       "      <td>1</td>\n",
       "      <td>165</td>\n",
       "      <td>64.0</td>\n",
       "      <td>130</td>\n",
       "      <td>70</td>\n",
       "      <td>3</td>\n",
       "      <td>1</td>\n",
       "      <td>0</td>\n",
       "      <td>0</td>\n",
       "      <td>0</td>\n",
       "      <td>1</td>\n",
       "      <td>23.51</td>\n",
       "    </tr>\n",
       "    <tr>\n",
       "      <th>3</th>\n",
       "      <td>3</td>\n",
       "      <td>3</td>\n",
       "      <td>17623</td>\n",
       "      <td>2</td>\n",
       "      <td>169</td>\n",
       "      <td>82.0</td>\n",
       "      <td>150</td>\n",
       "      <td>100</td>\n",
       "      <td>1</td>\n",
       "      <td>1</td>\n",
       "      <td>0</td>\n",
       "      <td>0</td>\n",
       "      <td>1</td>\n",
       "      <td>1</td>\n",
       "      <td>28.71</td>\n",
       "    </tr>\n",
       "    <tr>\n",
       "      <th>4</th>\n",
       "      <td>4</td>\n",
       "      <td>4</td>\n",
       "      <td>17474</td>\n",
       "      <td>1</td>\n",
       "      <td>156</td>\n",
       "      <td>56.0</td>\n",
       "      <td>100</td>\n",
       "      <td>60</td>\n",
       "      <td>1</td>\n",
       "      <td>1</td>\n",
       "      <td>0</td>\n",
       "      <td>0</td>\n",
       "      <td>0</td>\n",
       "      <td>0</td>\n",
       "      <td>23.01</td>\n",
       "    </tr>\n",
       "  </tbody>\n",
       "</table>\n",
       "</div>"
      ],
      "text/plain": [
       "   Unnamed: 0  id    age  gender  height  weight  systolic_bp  diastolic_bp  \\\n",
       "0           0   0  18393       2     168    62.0          110            80   \n",
       "1           1   1  20228       1     156    85.0          140            90   \n",
       "2           2   2  18857       1     165    64.0          130            70   \n",
       "3           3   3  17623       2     169    82.0          150           100   \n",
       "4           4   4  17474       1     156    56.0          100            60   \n",
       "\n",
       "   cholesterol  gluc  smoke  alco  active  cardio    BMI  \n",
       "0            1     1      0     0       1       0  21.97  \n",
       "1            3     1      0     0       1       1  34.93  \n",
       "2            3     1      0     0       0       1  23.51  \n",
       "3            1     1      0     0       1       1  28.71  \n",
       "4            1     1      0     0       0       0  23.01  "
      ]
     },
     "execution_count": 2,
     "metadata": {},
     "output_type": "execute_result"
    }
   ],
   "source": [
    "# Import dataset as csv\n",
    "df = pd.read_csv(\"cardio_complete.csv\")\n",
    "df.head(5)"
   ]
  },
  {
   "cell_type": "code",
   "execution_count": null,
   "metadata": {},
   "outputs": [],
   "source": [
    "# Legend for columns ***\n",
    "\n",
    "# Gender: 1 = Female, 2 = Male\n",
    "\n",
    "# Cholesterol:  1 = normal, 2 = above normal, 3 = far above normal range\n",
    "\n",
    "# Glucose (Blood surgar level): - 1 = within normal range, 2 = above normal range, 3 = far above normal range\n",
    "\n",
    "# Binary variables -> 0 = No, 1 = Yes"
   ]
  },
  {
   "cell_type": "code",
   "execution_count": null,
   "metadata": {},
   "outputs": [],
   "source": [
    "# CLEANING SECTION"
   ]
  },
  {
   "cell_type": "code",
   "execution_count": 3,
   "metadata": {},
   "outputs": [
    {
     "data": {
      "text/html": [
       "<div>\n",
       "<style scoped>\n",
       "    .dataframe tbody tr th:only-of-type {\n",
       "        vertical-align: middle;\n",
       "    }\n",
       "\n",
       "    .dataframe tbody tr th {\n",
       "        vertical-align: top;\n",
       "    }\n",
       "\n",
       "    .dataframe thead th {\n",
       "        text-align: right;\n",
       "    }\n",
       "</style>\n",
       "<table border=\"1\" class=\"dataframe\">\n",
       "  <thead>\n",
       "    <tr style=\"text-align: right;\">\n",
       "      <th></th>\n",
       "      <th>age</th>\n",
       "      <th>gender</th>\n",
       "      <th>height</th>\n",
       "      <th>weight</th>\n",
       "      <th>systolic_bp</th>\n",
       "      <th>diastolic_bp</th>\n",
       "      <th>cholesterol</th>\n",
       "      <th>gluc</th>\n",
       "      <th>smoke</th>\n",
       "      <th>alco</th>\n",
       "      <th>active</th>\n",
       "      <th>cardio</th>\n",
       "      <th>BMI</th>\n",
       "    </tr>\n",
       "  </thead>\n",
       "  <tbody>\n",
       "    <tr>\n",
       "      <th>0</th>\n",
       "      <td>18393</td>\n",
       "      <td>2</td>\n",
       "      <td>168</td>\n",
       "      <td>62.0</td>\n",
       "      <td>110</td>\n",
       "      <td>80</td>\n",
       "      <td>1</td>\n",
       "      <td>1</td>\n",
       "      <td>0</td>\n",
       "      <td>0</td>\n",
       "      <td>1</td>\n",
       "      <td>0</td>\n",
       "      <td>21.97</td>\n",
       "    </tr>\n",
       "    <tr>\n",
       "      <th>1</th>\n",
       "      <td>20228</td>\n",
       "      <td>1</td>\n",
       "      <td>156</td>\n",
       "      <td>85.0</td>\n",
       "      <td>140</td>\n",
       "      <td>90</td>\n",
       "      <td>3</td>\n",
       "      <td>1</td>\n",
       "      <td>0</td>\n",
       "      <td>0</td>\n",
       "      <td>1</td>\n",
       "      <td>1</td>\n",
       "      <td>34.93</td>\n",
       "    </tr>\n",
       "    <tr>\n",
       "      <th>2</th>\n",
       "      <td>18857</td>\n",
       "      <td>1</td>\n",
       "      <td>165</td>\n",
       "      <td>64.0</td>\n",
       "      <td>130</td>\n",
       "      <td>70</td>\n",
       "      <td>3</td>\n",
       "      <td>1</td>\n",
       "      <td>0</td>\n",
       "      <td>0</td>\n",
       "      <td>0</td>\n",
       "      <td>1</td>\n",
       "      <td>23.51</td>\n",
       "    </tr>\n",
       "  </tbody>\n",
       "</table>\n",
       "</div>"
      ],
      "text/plain": [
       "     age  gender  height  weight  systolic_bp  diastolic_bp  cholesterol  \\\n",
       "0  18393       2     168    62.0          110            80            1   \n",
       "1  20228       1     156    85.0          140            90            3   \n",
       "2  18857       1     165    64.0          130            70            3   \n",
       "\n",
       "   gluc  smoke  alco  active  cardio    BMI  \n",
       "0     1      0     0       1       0  21.97  \n",
       "1     1      0     0       1       1  34.93  \n",
       "2     1      0     0       0       1  23.51  "
      ]
     },
     "execution_count": 3,
     "metadata": {},
     "output_type": "execute_result"
    }
   ],
   "source": [
    "# Remove Unnamed:0 & id columns\n",
    "df = df.drop(columns= [\"Unnamed: 0\", \"id\"], axis=1)\n",
    "df.head(3)"
   ]
  },
  {
   "cell_type": "code",
   "execution_count": 4,
   "metadata": {},
   "outputs": [
    {
     "data": {
      "text/html": [
       "<div>\n",
       "<style scoped>\n",
       "    .dataframe tbody tr th:only-of-type {\n",
       "        vertical-align: middle;\n",
       "    }\n",
       "\n",
       "    .dataframe tbody tr th {\n",
       "        vertical-align: top;\n",
       "    }\n",
       "\n",
       "    .dataframe thead th {\n",
       "        text-align: right;\n",
       "    }\n",
       "</style>\n",
       "<table border=\"1\" class=\"dataframe\">\n",
       "  <thead>\n",
       "    <tr style=\"text-align: right;\">\n",
       "      <th></th>\n",
       "      <th>age_years</th>\n",
       "      <th>gender</th>\n",
       "      <th>height</th>\n",
       "      <th>weight</th>\n",
       "      <th>systolic_bp</th>\n",
       "      <th>diastolic_bp</th>\n",
       "      <th>cholesterol</th>\n",
       "      <th>gluc</th>\n",
       "      <th>smoke</th>\n",
       "      <th>alco</th>\n",
       "      <th>active</th>\n",
       "      <th>cardio</th>\n",
       "      <th>BMI</th>\n",
       "    </tr>\n",
       "  </thead>\n",
       "  <tbody>\n",
       "    <tr>\n",
       "      <th>0</th>\n",
       "      <td>50</td>\n",
       "      <td>2</td>\n",
       "      <td>168</td>\n",
       "      <td>62.0</td>\n",
       "      <td>110</td>\n",
       "      <td>80</td>\n",
       "      <td>1</td>\n",
       "      <td>1</td>\n",
       "      <td>0</td>\n",
       "      <td>0</td>\n",
       "      <td>1</td>\n",
       "      <td>0</td>\n",
       "      <td>21.97</td>\n",
       "    </tr>\n",
       "    <tr>\n",
       "      <th>1</th>\n",
       "      <td>55</td>\n",
       "      <td>1</td>\n",
       "      <td>156</td>\n",
       "      <td>85.0</td>\n",
       "      <td>140</td>\n",
       "      <td>90</td>\n",
       "      <td>3</td>\n",
       "      <td>1</td>\n",
       "      <td>0</td>\n",
       "      <td>0</td>\n",
       "      <td>1</td>\n",
       "      <td>1</td>\n",
       "      <td>34.93</td>\n",
       "    </tr>\n",
       "    <tr>\n",
       "      <th>2</th>\n",
       "      <td>51</td>\n",
       "      <td>1</td>\n",
       "      <td>165</td>\n",
       "      <td>64.0</td>\n",
       "      <td>130</td>\n",
       "      <td>70</td>\n",
       "      <td>3</td>\n",
       "      <td>1</td>\n",
       "      <td>0</td>\n",
       "      <td>0</td>\n",
       "      <td>0</td>\n",
       "      <td>1</td>\n",
       "      <td>23.51</td>\n",
       "    </tr>\n",
       "  </tbody>\n",
       "</table>\n",
       "</div>"
      ],
      "text/plain": [
       "   age_years  gender  height  weight  systolic_bp  diastolic_bp  cholesterol  \\\n",
       "0         50       2     168    62.0          110            80            1   \n",
       "1         55       1     156    85.0          140            90            3   \n",
       "2         51       1     165    64.0          130            70            3   \n",
       "\n",
       "   gluc  smoke  alco  active  cardio    BMI  \n",
       "0     1      0     0       1       0  21.97  \n",
       "1     1      0     0       1       1  34.93  \n",
       "2     1      0     0       0       1  23.51  "
      ]
     },
     "execution_count": 4,
     "metadata": {},
     "output_type": "execute_result"
    }
   ],
   "source": [
    "# Convert the age column (currently in days) to years\n",
    "df = df.rename(columns= {\"age\" : \"age_years\"})\n",
    "df[\"age_years\"] = (df[\"age_years\"]/365).astype(int)\n",
    "df.head(3)"
   ]
  },
  {
   "cell_type": "code",
   "execution_count": null,
   "metadata": {},
   "outputs": [],
   "source": [
    "# checking for outliers/misenteries "
   ]
  },
  {
   "cell_type": "code",
   "execution_count": 7,
   "metadata": {},
   "outputs": [
    {
     "name": "stdout",
     "output_type": "stream",
     "text": [
      "the maximum value is 64\n"
     ]
    }
   ],
   "source": [
    "# age_years_max - good to go!\n",
    "print(\"the maximum value is\", df.age_years.max())"
   ]
  },
  {
   "cell_type": "code",
   "execution_count": 17,
   "metadata": {},
   "outputs": [
    {
     "name": "stdout",
     "output_type": "stream",
     "text": [
      "Statistical readout: count    70000.000000\n",
      "mean        52.840671\n",
      "std          6.766774\n",
      "min         29.000000\n",
      "25%         48.000000\n",
      "50%         53.000000\n",
      "75%         58.000000\n",
      "max         64.000000\n",
      "Name: age_years, dtype: float64\n"
     ]
    }
   ],
   "source": [
    "# age_range - need to remove values that are 30 >= x\n",
    "print(\"Statistical Readout:\", df.age_years.describe())"
   ]
  },
  {
   "cell_type": "code",
   "execution_count": 19,
   "metadata": {},
   "outputs": [
    {
     "name": "stdout",
     "output_type": "stream",
     "text": [
      "Statistical Readout, Corrected: count    69996.000000\n",
      "mean        52.842020\n",
      "std          6.764616\n",
      "min         39.000000\n",
      "25%         48.000000\n",
      "50%         53.000000\n",
      "75%         58.000000\n",
      "max         64.000000\n",
      "Name: age_years, dtype: float64\n"
     ]
    }
   ],
   "source": [
    "# age_years | fix | remove the (3) enteries for people 30 or younger.\n",
    "df = df[df[\"age_years\"]>30]\n",
    "print(\"Statistical Readout, Corrected:\", df.age_years.describe())"
   ]
  },
  {
   "cell_type": "code",
   "execution_count": 18,
   "metadata": {},
   "outputs": [
    {
     "name": "stdout",
     "output_type": "stream",
     "text": [
      "Statistical Readout: count    70000.000000\n",
      "mean       164.359229\n",
      "std          8.210126\n",
      "min         55.000000\n",
      "25%        159.000000\n",
      "50%        165.000000\n",
      "75%        170.000000\n",
      "max        250.000000\n",
      "Name: height, dtype: float64\n"
     ]
    }
   ],
   "source": [
    "# height stats - need to remove outlier minimum value counts\n",
    "print(\"Statistical Readout:\", df.height.describe())"
   ]
  },
  {
   "cell_type": "code",
   "execution_count": 20,
   "metadata": {},
   "outputs": [
    {
     "data": {
      "text/plain": [
       "(152.5, 185.0]    65255\n",
       "(120.0, 152.5]     4277\n",
       "(185.0, 217.5]      377\n",
       "(87.5, 120.0]        62\n",
       "(54.804, 87.5]       24\n",
       "(217.5, 250.0]        1\n",
       "Name: height, dtype: int64"
      ]
     },
     "execution_count": 20,
     "metadata": {},
     "output_type": "execute_result"
    }
   ],
   "source": [
    "# Height | fix | outliers | bins\n",
    "df.height.value_counts(bins=6)\n",
    "# so we have 86 outlier values that are between 54.8 - 120.0\n",
    "\n",
    "# and 1 outlier value x > 217.5"
   ]
  },
  {
   "cell_type": "code",
   "execution_count": 29,
   "metadata": {},
   "outputs": [],
   "source": [
    "# Height | removing all values below 145\n",
    "df=df[df[\"height\"]>145]"
   ]
  },
  {
   "cell_type": "code",
   "execution_count": 30,
   "metadata": {},
   "outputs": [],
   "source": [
    "# Height | removing the max outlier that is above 217.50 (250)\n",
    "df=df[df[\"height\"]<217.5]"
   ]
  },
  {
   "cell_type": "code",
   "execution_count": 31,
   "metadata": {},
   "outputs": [
    {
     "name": "stdout",
     "output_type": "stream",
     "text": [
      "Updated Descriptive Stats: count    69475.000000\n",
      "mean       164.575660\n",
      "std          7.681668\n",
      "min        146.000000\n",
      "25%        159.000000\n",
      "50%        165.000000\n",
      "75%        170.000000\n",
      "max        207.000000\n",
      "Name: height, dtype: float64\n"
     ]
    }
   ],
   "source": [
    "# Height | FIXED! | re-check the descriptive statistics and then run bins\n",
    "print(\"Updated Descriptive Stats:\", df.height.describe())"
   ]
  },
  {
   "cell_type": "code",
   "execution_count": 32,
   "metadata": {},
   "outputs": [
    {
     "data": {
      "text/plain": [
       "(156.167, 166.333]    30854\n",
       "(166.333, 176.5]      23321\n",
       "(145.938, 156.167]    10882\n",
       "(176.5, 186.667]       4150\n",
       "(186.667, 196.833]      248\n",
       "(196.833, 207.0]         20\n",
       "Name: height, dtype: int64"
      ]
     },
     "execution_count": 32,
     "metadata": {},
     "output_type": "execute_result"
    }
   ],
   "source": [
    "# Height | FIXED | updated bins |\n",
    "df.height.value_counts(bins=6)"
   ]
  },
  {
   "cell_type": "code",
   "execution_count": 33,
   "metadata": {},
   "outputs": [
    {
     "name": "stdout",
     "output_type": "stream",
     "text": [
      "pre-cleaned descriptive stats: count    69475.000000\n",
      "mean       128.822339\n",
      "std        154.581866\n",
      "min       -150.000000\n",
      "25%        120.000000\n",
      "50%        120.000000\n",
      "75%        140.000000\n",
      "max      16020.000000\n",
      "Name: systolic_bp, dtype: float64\n"
     ]
    }
   ],
   "source": [
    "# Systolic descriptive stats | before cleaning | \n",
    "print(\"pre-cleaned descriptive stats:\", df.systolic_bp.describe())"
   ]
  },
  {
   "cell_type": "code",
   "execution_count": null,
   "metadata": {},
   "outputs": [],
   "source": [
    "# Systolic (\"top\") background info for analysis write-up\n",
    "\n",
    "\n",
    "# When your heart beats, it squeezes and pushes blood through your arteries to the rest of your body. \n",
    "# This force creates pressure on those blood vessels, and that's your systolic blood pressure.\n",
    "\n",
    "\n",
    "# Normal: Below 120\n",
    "# Elevated: 120-129\n",
    "# Stage 1 high blood pressure (also called hypertension): 130-139\n",
    "# Stage 2 hypertension: 140 or more\n",
    "# Hypertensive crisis: 180 or more. Death is coming."
   ]
  },
  {
   "cell_type": "code",
   "execution_count": 34,
   "metadata": {},
   "outputs": [
    {
     "data": {
      "text/plain": [
       "(-166.171, 2160.0]    69466\n",
       "(13710.0, 16020.0]        5\n",
       "(11400.0, 13710.0]        3\n",
       "(9090.0, 11400.0]         1\n",
       "(6780.0, 9090.0]          0\n",
       "(4470.0, 6780.0]          0\n",
       "(2160.0, 4470.0]          0\n",
       "Name: systolic_bp, dtype: int64"
      ]
     },
     "execution_count": 34,
     "metadata": {},
     "output_type": "execute_result"
    }
   ],
   "source": [
    "# Systolic_bp bins | before cleaning | \n",
    "df.systolic_bp.value_counts(bins=7)\n",
    "# results: whack. have 8 outliers < 13710 that are totally skewing everything.  \n",
    "\n",
    "# results cont: also have negative values?? need to get rid of right tail outliers before addressing."
   ]
  },
  {
   "cell_type": "code",
   "execution_count": 35,
   "metadata": {},
   "outputs": [],
   "source": [
    "# Systolic_bp | FIXING | remove right tail outliers | \n",
    "df= df[df[\"systolic_bp\"]<180]"
   ]
  },
  {
   "cell_type": "code",
   "execution_count": 36,
   "metadata": {},
   "outputs": [
    {
     "data": {
      "text/plain": [
       "(85.0, 132.0]        49646\n",
       "(132.0, 179.0]       18463\n",
       "(-9.0, 38.0]           179\n",
       "(38.0, 85.0]           131\n",
       "(-150.33, -103.0]        5\n",
       "(-103.0, -56.0]          2\n",
       "(-56.0, -9.0]            0\n",
       "Name: systolic_bp, dtype: int64"
      ]
     },
     "execution_count": 36,
     "metadata": {},
     "output_type": "execute_result"
    }
   ],
   "source": [
    "# Systolic_bp | FIXING | re-check BINS after removing RT outliers | \n",
    "df[\"systolic_bp\"].value_counts(bins=7)\n",
    "\n",
    "# Possible non-misentry range: 85 - 179 | Need to remove left tail outliers | < 85"
   ]
  },
  {
   "cell_type": "code",
   "execution_count": 37,
   "metadata": {},
   "outputs": [],
   "source": [
    "# Systolic_bp | FIXING | remove left tail outliers | \n",
    "df=df[df[\"systolic_bp\"]>85]"
   ]
  },
  {
   "cell_type": "code",
   "execution_count": 38,
   "metadata": {},
   "outputs": [
    {
     "data": {
      "text/plain": [
       "(115.429, 128.143]    28185\n",
       "(128.143, 140.857]    18606\n",
       "(102.714, 115.429]     8972\n",
       "(140.857, 153.571]     4780\n",
       "(89.91, 102.714]       3583\n",
       "(153.571, 166.286]     3204\n",
       "(166.286, 179.0]        779\n",
       "Name: systolic_bp, dtype: int64"
      ]
     },
     "execution_count": 38,
     "metadata": {},
     "output_type": "execute_result"
    }
   ],
   "source": [
    "# Systolic_bp | FIXING | re-check BINS after removing the LT outliers | \n",
    "df[\"systolic_bp\"].value_counts(bins=7)"
   ]
  },
  {
   "cell_type": "code",
   "execution_count": 39,
   "metadata": {},
   "outputs": [
    {
     "name": "stdout",
     "output_type": "stream",
     "text": [
      "Updated Descriptive Statistics for Systolic BP: count    68109.000000\n",
      "mean       126.209414\n",
      "std         15.438512\n",
      "min         90.000000\n",
      "25%        120.000000\n",
      "50%        120.000000\n",
      "75%        140.000000\n",
      "max        179.000000\n",
      "Name: systolic_bp, dtype: float64\n"
     ]
    }
   ],
   "source": [
    "# Systolic_bp | FIXED | Updated Descriptive Stats\n",
    "print(\"Updated Descriptive Statistics for Systolic BP:\", df.systolic_bp.describe())"
   ]
  },
  {
   "cell_type": "code",
   "execution_count": null,
   "metadata": {},
   "outputs": [],
   "source": []
  },
  {
   "cell_type": "code",
   "execution_count": null,
   "metadata": {},
   "outputs": [],
   "source": [
    "# Diastolic Blood Pressure (\"bottom number\") Background Info for Writeup\n",
    "\n",
    "# The diastolic reading, or the bottom number, is the pressure in the arteries \n",
    "# when the heart rests between beats. This is the time when the heart fills with blood and gets oxygen.\n",
    "\n",
    "\n",
    "# Normal: Lower than 80\n",
    "# Stage 1 hypertension: 80-89\n",
    "# Stage 2 hypertension: 90 or more\n",
    "# Hypertensive crisis: 120 or more. Death is near!\n"
   ]
  },
  {
   "cell_type": "code",
   "execution_count": 40,
   "metadata": {},
   "outputs": [
    {
     "name": "stdout",
     "output_type": "stream",
     "text": [
      "Pre-Cleaned Descriptive Stats for  Diastolic_BP: count    68109.000000\n",
      "mean        94.635452\n",
      "std        181.131301\n",
      "min          0.000000\n",
      "25%         80.000000\n",
      "50%         80.000000\n",
      "75%         90.000000\n",
      "max      10000.000000\n",
      "Name: diastolic_bp, dtype: float64\n"
     ]
    }
   ],
   "source": [
    "# Diastolic_BP | pre-cleaned | descriptive stats | pls fix\n",
    "print(\"Pre-Cleaned Descriptive Stats for  Diastolic_BP:\", df.diastolic_bp.describe())"
   ]
  },
  {
   "cell_type": "code",
   "execution_count": 41,
   "metadata": {},
   "outputs": [
    {
     "name": "stdout",
     "output_type": "stream",
     "text": [
      "Pre-cleaned bins for Diastolic Blood Pressure: (-10.001, 1428.571]     68084\n",
      "(7142.857, 8571.429]       11\n",
      "(8571.429, 10000.0]         7\n",
      "(5714.286, 7142.857]        3\n",
      "(4285.714, 5714.286]        2\n",
      "(1428.571, 2857.143]        2\n",
      "(2857.143, 4285.714]        0\n",
      "Name: diastolic_bp, dtype: int64\n"
     ]
    }
   ],
   "source": [
    "# Diastolic_BP | pre-cleaned | BINS | \n",
    "print(\"Pre-cleaned bins for Diastolic Blood Pressure:\", df[\"diastolic_bp\"].value_counts(bins=7))\n",
    "\n",
    "# same deal as with Systolic -> outliers on both the left and right tails.\n",
    "\n",
    "# deal with right tail outliers first."
   ]
  },
  {
   "cell_type": "code",
   "execution_count": 42,
   "metadata": {},
   "outputs": [
    {
     "name": "stdout",
     "output_type": "stream",
     "text": [
      "Diastolic_BP bins with right tail outliers removed:  (68.0, 85.0]      45815\n",
      "(85.0, 102.0]     18110\n",
      "(51.0, 68.0]       2810\n",
      "(102.0, 119.0]      325\n",
      "(34.0, 51.0]         60\n",
      "(-0.12, 17.0]        25\n",
      "(17.0, 34.0]         19\n",
      "Name: diastolic_bp, dtype: int64\n"
     ]
    }
   ],
   "source": [
    "# Diastolic_BP | CLEANING | removing right tail outliers | re-check bins\n",
    "\n",
    "df= df[df[\"diastolic_bp\"]<120]\n",
    "print(\"Diastolic_BP bins with right tail outliers removed: \", df[\"diastolic_bp\"].value_counts(bins=7))"
   ]
  },
  {
   "cell_type": "code",
   "execution_count": 43,
   "metadata": {},
   "outputs": [
    {
     "name": "stdout",
     "output_type": "stream",
     "text": [
      "Diastolic_BP bins with both right AND left tail outliers removed:   (77.571, 85.857]      35262\n",
      "(85.857, 94.143]      14248\n",
      "(69.286, 77.571]      10456\n",
      "(94.143, 102.429]      3862\n",
      "(102.429, 110.714]      311\n",
      "(60.941, 69.286]        245\n",
      "(110.714, 119.0]         14\n",
      "Name: diastolic_bp, dtype: int64\n"
     ]
    }
   ],
   "source": [
    "# Diastolic_BP | CLEANING | removing left tail outliers | re-check bins\n",
    "df= df[df[\"diastolic_bp\"]>60]\n",
    "print(\"Diastolic_BP bins with both right AND left tail outliers removed:  \", df[\"diastolic_bp\"].value_counts(bins=7))"
   ]
  },
  {
   "cell_type": "code",
   "execution_count": 44,
   "metadata": {},
   "outputs": [
    {
     "name": "stdout",
     "output_type": "stream",
     "text": [
      "Updated descriptive stats for Diastolic Blood Pressure:  count    64398.000000\n",
      "mean        81.914376\n",
      "std          7.942641\n",
      "min         61.000000\n",
      "25%         80.000000\n",
      "50%         80.000000\n",
      "75%         90.000000\n",
      "max        119.000000\n",
      "Name: diastolic_bp, dtype: float64\n"
     ]
    }
   ],
   "source": [
    "# Diastolic Blood Pressure | Cleaned | re-check descriptive stats\n",
    "\n",
    "print(\"Updated descriptive stats for Diastolic Blood Pressure: \", df[\"diastolic_bp\"].describe())"
   ]
  },
  {
   "cell_type": "code",
   "execution_count": 45,
   "metadata": {},
   "outputs": [
    {
     "name": "stdout",
     "output_type": "stream",
     "text": [
      "pre-cleaned descriptive state for Weight:  count    64398.000000\n",
      "mean        74.367472\n",
      "std         14.128542\n",
      "min         11.000000\n",
      "25%         65.000000\n",
      "50%         72.000000\n",
      "75%         82.000000\n",
      "max        200.000000\n",
      "Name: weight, dtype: float64\n"
     ]
    }
   ],
   "source": [
    "# Weight | pre-cleaned | Checking descriptive stats and BINS | \n",
    "\n",
    "print(\"pre-cleaned descriptive stats for Weight: \", df[\"weight\"].describe())\n",
    "\n",
    "# apparent outliers on both left and right tail"
   ]
  },
  {
   "cell_type": "code",
   "execution_count": 46,
   "metadata": {},
   "outputs": [
    {
     "name": "stdout",
     "output_type": "stream",
     "text": [
      "Pre-Cleaned Bins for Weight:  (65.0, 92.0]      39237\n",
      "(38.0, 65.0]      18580\n",
      "(92.0, 119.0]      6036\n",
      "(119.0, 146.0]      462\n",
      "(146.0, 173.0]       47\n",
      "(10.81, 38.0]        26\n",
      "(173.0, 200.0]       10\n",
      "Name: weight, dtype: int64\n"
     ]
    }
   ],
   "source": [
    "# Weight | pre-cleaned | BINS | \n",
    "print(\"Pre-Cleaned Bins for Weight: \", df[\"weight\"].value_counts(bins=7))"
   ]
  },
  {
   "cell_type": "code",
   "execution_count": 47,
   "metadata": {},
   "outputs": [],
   "source": [
    "# Weight | CLEANING | removing right tail outliers | x < 160 kg (352 pounds)\n",
    "\n",
    "df= df[df[\"weight\"]<160]"
   ]
  },
  {
   "cell_type": "code",
   "execution_count": 48,
   "metadata": {},
   "outputs": [
    {
     "name": "stdout",
     "output_type": "stream",
     "text": [
      "re-checking Weight bins after removing RT outliers:  (53.286, 74.429]      34077\n",
      "(74.429, 95.571]      23222\n",
      "(95.571, 116.714]      4265\n",
      "(32.143, 53.286]       2180\n",
      "(116.714, 137.857]      546\n",
      "(137.857, 159.0]         69\n",
      "(10.851, 32.143]          9\n",
      "Name: weight, dtype: int64\n"
     ]
    }
   ],
   "source": [
    "# Weight | CLEANING | re-check bins after removing x < 160 (kg)\n",
    "print(\"re-checking Weight bins after removing RT outliers: \", df[\"weight\"].value_counts(bins=7))\n",
    "\n",
    "# 40 kg = 88 pounds for cutoff on left tail"
   ]
  },
  {
   "cell_type": "code",
   "execution_count": 49,
   "metadata": {},
   "outputs": [
    {
     "name": "stdout",
     "output_type": "stream",
     "text": [
      "Updated Weight bins with outliers removed:  (57.857, 74.714]      31411\n",
      "(74.714, 91.571]      20906\n",
      "(91.571, 108.429]      5797\n",
      "(40.881, 57.857]       4800\n",
      "(108.429, 125.286]     1133\n",
      "(125.286, 142.143]      228\n",
      "(142.143, 159.0]         37\n",
      "Name: weight, dtype: int64\n"
     ]
    }
   ],
   "source": [
    "# Weight | CLEANING | removing left tail outliers | x > 40 kg (88 pounds)\n",
    "df = df[df[\"weight\"]>40]\n",
    "print(\"Updated Weight bins with outliers removed: \", df[\"weight\"].value_counts(bins=7))"
   ]
  },
  {
   "cell_type": "code",
   "execution_count": 50,
   "metadata": {},
   "outputs": [
    {
     "name": "stdout",
     "output_type": "stream",
     "text": [
      "Updated Descriptive Stats for Weight in kg:  count    64312.000000\n",
      "mean        74.354941\n",
      "std         13.933497\n",
      "min         41.000000\n",
      "25%         65.000000\n",
      "50%         72.000000\n",
      "75%         82.000000\n",
      "max        159.000000\n",
      "Name: weight, dtype: float64\n"
     ]
    }
   ],
   "source": [
    "# Weight | Cleaned | Updated Descriptive Stats |\n",
    "print(\"Updated Descriptive Stats for Weight in kg: \", df.weight.describe())"
   ]
  },
  {
   "cell_type": "code",
   "execution_count": 58,
   "metadata": {},
   "outputs": [
    {
     "data": {
      "text/plain": [
       "1    0.750793\n",
       "2    0.133365\n",
       "3    0.115842\n",
       "Name: cholesterol, dtype: float64"
      ]
     },
     "execution_count": 58,
     "metadata": {},
     "output_type": "execute_result"
    }
   ],
   "source": [
    "# Cholesterol | Checking to make sure every value is 1-3\n",
    "\n",
    "df.cholesterol.value_counts()\n",
    "\n",
    "df.cholesterol.value_counts(normalize=True)\n",
    "\n",
    "# 75.1% of individuals have normal cholesterol levels\n",
    "# 13.3% have above normal cholesterol levels\n",
    "# 11.6% have much higher than normal cholesterol levels "
   ]
  },
  {
   "cell_type": "code",
   "execution_count": 59,
   "metadata": {},
   "outputs": [
    {
     "data": {
      "text/plain": [
       "1    0.850526\n",
       "3    0.076642\n",
       "2    0.072832\n",
       "Name: gluc, dtype: float64"
      ]
     },
     "execution_count": 59,
     "metadata": {},
     "output_type": "execute_result"
    }
   ],
   "source": [
    "# Glucose | Checking to make sure all values are in range of 1-3\n",
    "\n",
    "df.gluc.value_counts()\n",
    "\n",
    "df.gluc.value_counts(normalize=True)\n",
    "\n",
    "# 85.1% of individuals have normal glucose levels\n",
    "# 7.7% of individuals have above normal glucose levels\n",
    "# 7.3% of individuals have much higher than normal glucose levels"
   ]
  },
  {
   "cell_type": "code",
   "execution_count": 61,
   "metadata": {},
   "outputs": [
    {
     "data": {
      "text/plain": [
       "0    0.911727\n",
       "1    0.088273\n",
       "Name: smoke, dtype: float64"
      ]
     },
     "execution_count": 61,
     "metadata": {},
     "output_type": "execute_result"
    }
   ],
   "source": [
    "# Smoke | Checking to be sure it's binary | Subjective feature | \n",
    "\n",
    "df.smoke.value_counts()\n",
    "\n",
    "df.smoke.value_counts(normalize=True)\n",
    "\n",
    "#  91.1% of individuals do not smoke on a regular basis\n",
    "# 8.9% of individuals smoke "
   ]
  },
  {
   "cell_type": "code",
   "execution_count": 62,
   "metadata": {},
   "outputs": [
    {
     "data": {
      "text/plain": [
       "0    0.946495\n",
       "1    0.053505\n",
       "Name: alco, dtype: float64"
      ]
     },
     "execution_count": 62,
     "metadata": {},
     "output_type": "execute_result"
    }
   ],
   "source": [
    "# Alcohol | Checking to be sure it's binary | Subjective feature |\n",
    "\n",
    "df.alco.value_counts()\n",
    "\n",
    "df.alco.value_counts(normalize=True)\n",
    "\n",
    "# 94.6% of individuals drink alcohol at least somewhat regularly \n",
    "# 5.4% of individuals do not drink alcohol at all"
   ]
  },
  {
   "cell_type": "code",
   "execution_count": 63,
   "metadata": {},
   "outputs": [
    {
     "data": {
      "text/plain": [
       "1    0.803583\n",
       "0    0.196417\n",
       "Name: active, dtype: float64"
      ]
     },
     "execution_count": 63,
     "metadata": {},
     "output_type": "execute_result"
    }
   ],
   "source": [
    "# Active | Checking to be sure it's binary | Subjective feature | \n",
    "\n",
    "df.active.value_counts()\n",
    "\n",
    "df.active.value_counts(normalize=True)\n",
    "\n",
    "# 80% of individuals are at least somewhat physicially active \n",
    "# 20% of individuals are not at all physicailly active"
   ]
  },
  {
   "cell_type": "code",
   "execution_count": 64,
   "metadata": {},
   "outputs": [
    {
     "data": {
      "text/plain": [
       "0    0.500342\n",
       "1    0.499658\n",
       "Name: cardio, dtype: float64"
      ]
     },
     "execution_count": 64,
     "metadata": {},
     "output_type": "execute_result"
    }
   ],
   "source": [
    "# Cardio | TARGET VARIABLE | 50/50\n",
    "\n",
    "df.cardio.value_counts(normalize=True)\n",
    "\n",
    "# 50% of individuals have some form of cardiovasuclar disease \n",
    "# 50% of individuals do NOT have any form of cardiovasuclar disease "
   ]
  },
  {
   "cell_type": "code",
   "execution_count": 51,
   "metadata": {},
   "outputs": [
    {
     "data": {
      "text/html": [
       "<div>\n",
       "<style scoped>\n",
       "    .dataframe tbody tr th:only-of-type {\n",
       "        vertical-align: middle;\n",
       "    }\n",
       "\n",
       "    .dataframe tbody tr th {\n",
       "        vertical-align: top;\n",
       "    }\n",
       "\n",
       "    .dataframe thead th {\n",
       "        text-align: right;\n",
       "    }\n",
       "</style>\n",
       "<table border=\"1\" class=\"dataframe\">\n",
       "  <thead>\n",
       "    <tr style=\"text-align: right;\">\n",
       "      <th></th>\n",
       "      <th>age_years</th>\n",
       "      <th>gender</th>\n",
       "      <th>height</th>\n",
       "      <th>weight</th>\n",
       "      <th>systolic_bp</th>\n",
       "      <th>diastolic_bp</th>\n",
       "      <th>cholesterol</th>\n",
       "      <th>gluc</th>\n",
       "      <th>smoke</th>\n",
       "      <th>alco</th>\n",
       "      <th>active</th>\n",
       "      <th>cardio</th>\n",
       "      <th>BMI</th>\n",
       "    </tr>\n",
       "  </thead>\n",
       "  <tbody>\n",
       "    <tr>\n",
       "      <th>0</th>\n",
       "      <td>50</td>\n",
       "      <td>2</td>\n",
       "      <td>168</td>\n",
       "      <td>62.0</td>\n",
       "      <td>110</td>\n",
       "      <td>80</td>\n",
       "      <td>1</td>\n",
       "      <td>1</td>\n",
       "      <td>0</td>\n",
       "      <td>0</td>\n",
       "      <td>1</td>\n",
       "      <td>0</td>\n",
       "      <td>21.97</td>\n",
       "    </tr>\n",
       "    <tr>\n",
       "      <th>1</th>\n",
       "      <td>55</td>\n",
       "      <td>1</td>\n",
       "      <td>156</td>\n",
       "      <td>85.0</td>\n",
       "      <td>140</td>\n",
       "      <td>90</td>\n",
       "      <td>3</td>\n",
       "      <td>1</td>\n",
       "      <td>0</td>\n",
       "      <td>0</td>\n",
       "      <td>1</td>\n",
       "      <td>1</td>\n",
       "      <td>34.93</td>\n",
       "    </tr>\n",
       "    <tr>\n",
       "      <th>2</th>\n",
       "      <td>51</td>\n",
       "      <td>1</td>\n",
       "      <td>165</td>\n",
       "      <td>64.0</td>\n",
       "      <td>130</td>\n",
       "      <td>70</td>\n",
       "      <td>3</td>\n",
       "      <td>1</td>\n",
       "      <td>0</td>\n",
       "      <td>0</td>\n",
       "      <td>0</td>\n",
       "      <td>1</td>\n",
       "      <td>23.51</td>\n",
       "    </tr>\n",
       "    <tr>\n",
       "      <th>3</th>\n",
       "      <td>48</td>\n",
       "      <td>2</td>\n",
       "      <td>169</td>\n",
       "      <td>82.0</td>\n",
       "      <td>150</td>\n",
       "      <td>100</td>\n",
       "      <td>1</td>\n",
       "      <td>1</td>\n",
       "      <td>0</td>\n",
       "      <td>0</td>\n",
       "      <td>1</td>\n",
       "      <td>1</td>\n",
       "      <td>28.71</td>\n",
       "    </tr>\n",
       "    <tr>\n",
       "      <th>5</th>\n",
       "      <td>60</td>\n",
       "      <td>1</td>\n",
       "      <td>151</td>\n",
       "      <td>67.0</td>\n",
       "      <td>120</td>\n",
       "      <td>80</td>\n",
       "      <td>2</td>\n",
       "      <td>2</td>\n",
       "      <td>0</td>\n",
       "      <td>0</td>\n",
       "      <td>0</td>\n",
       "      <td>0</td>\n",
       "      <td>29.38</td>\n",
       "    </tr>\n",
       "  </tbody>\n",
       "</table>\n",
       "</div>"
      ],
      "text/plain": [
       "   age_years  gender  height  weight  systolic_bp  diastolic_bp  cholesterol  \\\n",
       "0         50       2     168    62.0          110            80            1   \n",
       "1         55       1     156    85.0          140            90            3   \n",
       "2         51       1     165    64.0          130            70            3   \n",
       "3         48       2     169    82.0          150           100            1   \n",
       "5         60       1     151    67.0          120            80            2   \n",
       "\n",
       "   gluc  smoke  alco  active  cardio    BMI  \n",
       "0     1      0     0       1       0  21.97  \n",
       "1     1      0     0       1       1  34.93  \n",
       "2     1      0     0       0       1  23.51  \n",
       "3     1      0     0       1       1  28.71  \n",
       "5     2      0     0       0       0  29.38  "
      ]
     },
     "execution_count": 51,
     "metadata": {},
     "output_type": "execute_result"
    }
   ],
   "source": [
    "# Re-checking Dataframe after cleaning:  Height / Weight / Systolic_BP / Diastolic_BP \n",
    "df.head(5)"
   ]
  },
  {
   "cell_type": "code",
   "execution_count": 52,
   "metadata": {},
   "outputs": [
    {
     "data": {
      "text/plain": [
       "age_years       0\n",
       "gender          0\n",
       "height          0\n",
       "weight          0\n",
       "systolic_bp     0\n",
       "diastolic_bp    0\n",
       "cholesterol     0\n",
       "gluc            0\n",
       "smoke           0\n",
       "alco            0\n",
       "active          0\n",
       "cardio          0\n",
       "BMI             0\n",
       "dtype: int64"
      ]
     },
     "execution_count": 52,
     "metadata": {},
     "output_type": "execute_result"
    }
   ],
   "source": [
    "# checking for null values\n",
    "\n",
    "df.isnull().sum()\n",
    "\n",
    "# No null values!"
   ]
  },
  {
   "cell_type": "code",
   "execution_count": 66,
   "metadata": {},
   "outputs": [
    {
     "data": {
      "text/html": [
       "<div>\n",
       "<style scoped>\n",
       "    .dataframe tbody tr th:only-of-type {\n",
       "        vertical-align: middle;\n",
       "    }\n",
       "\n",
       "    .dataframe tbody tr th {\n",
       "        vertical-align: top;\n",
       "    }\n",
       "\n",
       "    .dataframe thead th {\n",
       "        text-align: right;\n",
       "    }\n",
       "</style>\n",
       "<table border=\"1\" class=\"dataframe\">\n",
       "  <thead>\n",
       "    <tr style=\"text-align: right;\">\n",
       "      <th></th>\n",
       "      <th>age_years</th>\n",
       "      <th>gender</th>\n",
       "      <th>height</th>\n",
       "      <th>weight</th>\n",
       "      <th>systolic_bp</th>\n",
       "      <th>diastolic_bp</th>\n",
       "      <th>cholesterol</th>\n",
       "      <th>gluc</th>\n",
       "      <th>smoke</th>\n",
       "      <th>alco</th>\n",
       "      <th>active</th>\n",
       "      <th>cardio</th>\n",
       "      <th>BMI</th>\n",
       "    </tr>\n",
       "  </thead>\n",
       "  <tbody>\n",
       "    <tr>\n",
       "      <th>0</th>\n",
       "      <td>50</td>\n",
       "      <td>2</td>\n",
       "      <td>168</td>\n",
       "      <td>62.0</td>\n",
       "      <td>110</td>\n",
       "      <td>80</td>\n",
       "      <td>1</td>\n",
       "      <td>1</td>\n",
       "      <td>0</td>\n",
       "      <td>0</td>\n",
       "      <td>1</td>\n",
       "      <td>0</td>\n",
       "      <td>21.97</td>\n",
       "    </tr>\n",
       "    <tr>\n",
       "      <th>1</th>\n",
       "      <td>55</td>\n",
       "      <td>1</td>\n",
       "      <td>156</td>\n",
       "      <td>85.0</td>\n",
       "      <td>140</td>\n",
       "      <td>90</td>\n",
       "      <td>3</td>\n",
       "      <td>1</td>\n",
       "      <td>0</td>\n",
       "      <td>0</td>\n",
       "      <td>1</td>\n",
       "      <td>1</td>\n",
       "      <td>34.93</td>\n",
       "    </tr>\n",
       "    <tr>\n",
       "      <th>2</th>\n",
       "      <td>51</td>\n",
       "      <td>1</td>\n",
       "      <td>165</td>\n",
       "      <td>64.0</td>\n",
       "      <td>130</td>\n",
       "      <td>70</td>\n",
       "      <td>3</td>\n",
       "      <td>1</td>\n",
       "      <td>0</td>\n",
       "      <td>0</td>\n",
       "      <td>0</td>\n",
       "      <td>1</td>\n",
       "      <td>23.51</td>\n",
       "    </tr>\n",
       "  </tbody>\n",
       "</table>\n",
       "</div>"
      ],
      "text/plain": [
       "   age_years  gender  height  weight  systolic_bp  diastolic_bp  cholesterol  \\\n",
       "0         50       2     168    62.0          110            80            1   \n",
       "1         55       1     156    85.0          140            90            3   \n",
       "2         51       1     165    64.0          130            70            3   \n",
       "\n",
       "   gluc  smoke  alco  active  cardio    BMI  \n",
       "0     1      0     0       1       0  21.97  \n",
       "1     1      0     0       1       1  34.93  \n",
       "2     1      0     0       0       1  23.51  "
      ]
     },
     "execution_count": 66,
     "metadata": {},
     "output_type": "execute_result"
    }
   ],
   "source": [
    "# preparing to export the CLEANED dataframe as CSV file\n",
    "\n",
    "cardio_df_ultimate = df\n",
    "cardio_df_ultimate.head(3)"
   ]
  },
  {
   "cell_type": "code",
   "execution_count": 69,
   "metadata": {},
   "outputs": [],
   "source": [
    "cardio_df_ultimate.to_csv(r\"cardio_df_ultimate.csv\", index=True, header=True)"
   ]
  },
  {
   "cell_type": "code",
   "execution_count": null,
   "metadata": {},
   "outputs": [],
   "source": [
    "# Exported to Final_Project as \"cardio_df_ultimate.csv\" "
   ]
  }
 ],
 "metadata": {
  "kernelspec": {
   "display_name": "PythonData",
   "language": "python",
   "name": "pythondata"
  },
  "language_info": {
   "codemirror_mode": {
    "name": "ipython",
    "version": 3
   },
   "file_extension": ".py",
   "mimetype": "text/x-python",
   "name": "python",
   "nbconvert_exporter": "python",
   "pygments_lexer": "ipython3",
   "version": "3.7.7"
  }
 },
 "nbformat": 4,
 "nbformat_minor": 4
}
